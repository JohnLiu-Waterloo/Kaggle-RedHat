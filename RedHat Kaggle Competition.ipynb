{
 "cells": [
  {
   "cell_type": "markdown",
   "metadata": {
    "collapsed": true
   },
   "source": [
    "# RedHat Kaggle Model"
   ]
  },
  {
   "cell_type": "code",
   "execution_count": 1,
   "metadata": {
    "collapsed": false
   },
   "outputs": [
    {
     "name": "stderr",
     "output_type": "stream",
     "text": [
      "//anaconda/lib/python2.7/site-packages/matplotlib/font_manager.py:273: UserWarning: Matplotlib is building the font cache using fc-list. This may take a moment.\n",
      "  warnings.warn('Matplotlib is building the font cache using fc-list. This may take a moment.')\n"
     ]
    }
   ],
   "source": [
    "## load necessary libraries\n",
    "%matplotlib inline\n",
    "import pandas as pd\n",
    "import numpy as np\n",
    "from ipywidgets import interact\n",
    "import seaborn as sb\n",
    "sb.set(context='talk', style='darkgrid', palette='muted')\n",
    "\n",
    "libDir = r\"/Users/washington_zjq/Dropbox/Kaggle/RedHat/lib\"\n",
    "import sys\n",
    "sys.path.insert(0, libDir)\n",
    "from dbutil import getData"
   ]
  },
  {
   "cell_type": "markdown",
   "metadata": {},
   "source": [
    "## Background"
   ]
  },
  {
   "cell_type": "markdown",
   "metadata": {},
   "source": [
    "Like most companies, Red Hat is able to gather a great deal of information over time about the behavior of individuals who interact with them. They’re in search of better methods of using this behavioral data to predict which individuals they should approach—and even when and how to approach them.\n",
    "\n",
    "In this competition, Kagglers are challenged to create a classification algorithm that accurately identifies which customers have the most potential business value for Red Hat based on their characteristics and activities.\n",
    "\n",
    "With an improved prediction model in place, Red Hat will be able to more efficiently prioritize resources to generate more business and better serve their customers.\n",
    "\n",
    "[Kaggle Link](https://www.kaggle.com/c/predicting-red-hat-business-value)"
   ]
  },
  {
   "cell_type": "markdown",
   "metadata": {},
   "source": [
    "## Descriptions of Data"
   ]
  },
  {
   "cell_type": "markdown",
   "metadata": {},
   "source": [
    "This competition uses two separate data files that may be joined together to create a single, unified data table: a people file and an activity file."
   ]
  },
  {
   "cell_type": "markdown",
   "metadata": {},
   "source": [
    "### People File"
   ]
  },
  {
   "cell_type": "markdown",
   "metadata": {},
   "source": [
    "The people file contains all of the unique people (and the corresponding characteristics) that have performed activities over time. Each row in the people file represents a unique person. Each person has a unique people_id."
   ]
  },
  {
   "cell_type": "code",
   "execution_count": 2,
   "metadata": {
    "collapsed": false
   },
   "outputs": [],
   "source": [
    "people = getData('People')"
   ]
  },
  {
   "cell_type": "markdown",
   "metadata": {},
   "source": [
    "By exploring the people file, char_10 to char_37 are all boolean variables. In this case, we will map the TRUE to be 1 and FALSE to be 0."
   ]
  },
  {
   "cell_type": "code",
   "execution_count": 3,
   "metadata": {
    "collapsed": true
   },
   "outputs": [],
   "source": [
    "bol_cols = ['char_{}'.format(i) for i in range(10, 38)]"
   ]
  },
  {
   "cell_type": "code",
   "execution_count": 4,
   "metadata": {
    "collapsed": false
   },
   "outputs": [],
   "source": [
    "for col in bol_cols: \n",
    "    people[col] = people[col].map({False: 0, True:1})"
   ]
  },
  {
   "cell_type": "markdown",
   "metadata": {},
   "source": [
    "### Activity File"
   ]
  },
  {
   "cell_type": "markdown",
   "metadata": {},
   "source": [
    "The activity file contains all of the unique activities (and the corresponding activity characteristics) that each person has performed over time. Each row in the activity file represents a unique activity performed by a person on a certain date. Each activity has a unique activity_id.\n",
    "\n",
    "The challenge of this competition is to predict the potential business value of a person who has performed a specific activity. The business value outcome is defined by a yes/no field attached to each unique activity in the activity file. The outcome field indicates whether or not each person has completed the outcome within a fixed window of time after each unique activity was performed.\n",
    "\n",
    "The activity file contains several different categories of activities. Type 1 activities are different from type 2-7 activities because there are more known characteristics associated with type 1 activities (nine in total) than type 2-7 activities (which have only one associated characteristic)."
   ]
  },
  {
   "cell_type": "code",
   "execution_count": 5,
   "metadata": {
    "collapsed": true
   },
   "outputs": [],
   "source": [
    "act_train = getData('Activity Train')"
   ]
  },
  {
   "cell_type": "markdown",
   "metadata": {},
   "source": [
    "**Note: char_10 represents the characteristics of type 2-7 activities and char_1 to char_9 describes the type 1 activity**\n",
    "\n",
    "Since the characteristics names are overlapping between activities and people, we will rename the activities ones as act_char_1 to act_char_10"
   ]
  },
  {
   "cell_type": "code",
   "execution_count": 6,
   "metadata": {
    "collapsed": true
   },
   "outputs": [],
   "source": [
    "rename_cols_dict = dict(zip(['char_{}'.format(i) for i in range(1, 11)],\n",
    "                            ['act_char_{}'.format(i) for i in range(1, 11)]))"
   ]
  },
  {
   "cell_type": "code",
   "execution_count": 7,
   "metadata": {
    "collapsed": true
   },
   "outputs": [],
   "source": [
    "act_train = act_train.rename(columns=rename_cols_dict)"
   ]
  },
  {
   "cell_type": "markdown",
   "metadata": {},
   "source": [
    "In addition, the date name is also the same so it will be renamed as act_date"
   ]
  },
  {
   "cell_type": "code",
   "execution_count": 8,
   "metadata": {
    "collapsed": true
   },
   "outputs": [],
   "source": [
    "act_train = act_train.rename(columns={'date': 'act_date'})"
   ]
  },
  {
   "cell_type": "markdown",
   "metadata": {},
   "source": [
    "To develop a predictive model with this data, you will likely need to join the files together into a single data set. The two files can be joined together using person_id as the common key. All variables are categorical, with the exception of 'char_38' in the people file, which is a continuous numerical variable."
   ]
  },
  {
   "cell_type": "code",
   "execution_count": 9,
   "metadata": {
    "collapsed": false
   },
   "outputs": [],
   "source": [
    "train = act_train.join(people.set_index('people_id'), on='people_id')\n",
    "del act_train\n",
    "del people"
   ]
  },
  {
   "cell_type": "markdown",
   "metadata": {},
   "source": [
    "## Data Exploration"
   ]
  },
  {
   "cell_type": "markdown",
   "metadata": {},
   "source": [
    "### Date investigation"
   ]
  },
  {
   "cell_type": "markdown",
   "metadata": {},
   "source": [
    "In this section, we will be investigating in the date factor that impacts the final outcome. First let's just make some convertion in the date information (extract month, year, day and day of the week information)."
   ]
  },
  {
   "cell_type": "code",
   "execution_count": 23,
   "metadata": {
    "collapsed": false
   },
   "outputs": [],
   "source": [
    "dateInvest = train[['activity_id', 'people_id', 'act_date', 'date', 'outcome']].copy()"
   ]
  },
  {
   "cell_type": "code",
   "execution_count": 24,
   "metadata": {
    "collapsed": false
   },
   "outputs": [],
   "source": [
    "dateInvest['act_day_of_week'] = dateInvest.act_date.dt.dayofweek\n",
    "dateInvest['act_month'] = dateInvest.act_date.dt.month\n",
    "dateInvest['act_year'] = dateInvest.act_date.dt.year\n",
    "dateInvest['act_day'] = dateInvest.act_date.dt.day"
   ]
  },
  {
   "cell_type": "markdown",
   "metadata": {},
   "source": [
    "First of all, we want to see if there is any impact between number of outcome 1 and day of the week."
   ]
  },
  {
   "cell_type": "code",
   "execution_count": 42,
   "metadata": {
    "collapsed": false
   },
   "outputs": [
    {
     "data": {
      "image/png": "[encoded data removed]",
      "text/plain": [
       "<matplotlib.figure.Figure at 0x119359cd0>"
      ]
     },
     "metadata": {},
     "output_type": "display_data"
    }
   ],
   "source": [
    "@interact\n",
    "def viewDayWeekSummary(viewType={'Overall': 1, 'ByYear': 2, 'ByMonth': 3, 'ByYearMonth': 4}, year={'2022': 2022, '2023': 2023}, month=(1, 12)):\n",
    "    if viewType == 1:\n",
    "        dayOfWeekSum = dateInvest.groupby(['act_day_of_week']).agg({'outcome': np.mean})\n",
    "    elif viewType == 2:\n",
    "        dayOfWeekSum = dateInvest[dateInvest.act_year==year].groupby(['act_day_of_week']).agg({'outcome': np.mean})\n",
    "    elif viewType == 3:\n",
    "        dayOfWeekSum = dateInvest[dateInvest.act_month==month].groupby(['act_day_of_week']).agg({'outcome': np.mean})\n",
    "    elif viewType == 4:\n",
    "        dayOfWeekSum = dateInvest[(dateInvest.act_year==year)&(dateInvest.act_month==month)].groupby(['act_day_of_week']).agg({'outcome': np.mean})\n",
    "    try:\n",
    "        dayOfWeekSum.plot(kind='bar')\n",
    "    except:\n",
    "        print 'no month info'"
   ]
  },
  {
   "cell_type": "markdown",
   "metadata": {},
   "source": [
    "Base on the information by day of the week, we can clearly see Monday and Sunday. "
   ]
  },
  {
   "cell_type": "markdown",
   "metadata": {},
   "source": [
    "### Activity Type Analysis"
   ]
  },
  {
   "cell_type": "markdown",
   "metadata": {},
   "source": [
    "Type 1 activity has more characteristics associated with it than other types so it is interesting to check it out."
   ]
  },
  {
   "cell_type": "code",
   "execution_count": 59,
   "metadata": {
    "collapsed": true
   },
   "outputs": [],
   "source": [
    "act_types = ['type {}'.format(i) for i in range(1, 7)]\n",
    "char_types = ['act_char_{}'.format(i) for i in range(1, 11)]"
   ]
  },
  {
   "cell_type": "code",
   "execution_count": 68,
   "metadata": {
    "collapsed": false
   },
   "outputs": [],
   "source": [
    "for i in char_types:\n",
    "        train[i] = train[i].fillna('type -999').str.replace('type ', '').astype(int)"
   ]
  },
  {
   "cell_type": "code",
   "execution_count": 71,
   "metadata": {
    "collapsed": false
   },
   "outputs": [
    {
     "data": {
      "image/png": "[encoded data removed]",
      "text/plain": [
       "<matplotlib.figure.Figure at 0x147056750>"
      ]
     },
     "metadata": {},
     "output_type": "display_data"
    }
   ],
   "source": [
    "@interact\n",
    "def viewActivitySum(view_type={'ByAct': 1, 'ByActChar': 2}, act_type=act_types, char_type=char_types):\n",
    "    if view_type == 1:\n",
    "        summary = train.groupby('activity_category').agg({'outcome': np.mean})\n",
    "        summary.plot(kind='bar')\n",
    "    else:\n",
    "        if act_type == 'type 1' and char_type == 'act_char_10':\n",
    "            print 'no info'\n",
    "        elif act_type != 'type 1' and char_type != 'act_char_10':\n",
    "            print 'no info'\n",
    "        else:\n",
    "            summary = train[train.activity_category==act_type].groupby(char_type).agg({'outcome': np.mean})\n",
    "            summary.plot()\n",
    "            "
   ]
  },
  {
   "cell_type": "markdown",
   "metadata": {
    "collapsed": true
   },
   "source": [
    "### People Characteristics Analysis"
   ]
  },
  {
   "cell_type": "markdown",
   "metadata": {},
   "source": [
    "As mentioned, char_38 is continuous and char_10 to char_37 are all boolean variables. Hence, it will be interesting to look at the behaviors of char_1 to char_9 and char_38."
   ]
  },
  {
   "cell_type": "code",
   "execution_count": 41,
   "metadata": {
    "collapsed": true
   },
   "outputs": [],
   "source": [
    "char_cols_to_inv = ['char_{}'.format(i) for i in range(1, 10)]\n",
    "char_cols_to_inv.append('char_38')"
   ]
  },
  {
   "cell_type": "code",
   "execution_count": 45,
   "metadata": {
    "collapsed": false
   },
   "outputs": [
    {
     "data": {
      "image/png": "[encoded data removed]",
      "text/plain": [
       "<matplotlib.figure.Figure at 0x119c65710>"
      ]
     },
     "metadata": {},
     "output_type": "display_data"
    }
   ],
   "source": [
    "@interact\n",
    "def viewDist(col=char_cols_to_inv):\n",
    "    summary = train.groupby(col).agg({'outcome': np.mean})\n",
    "    summary.plot(kind='bar')"
   ]
  },
  {
   "cell_type": "markdown",
   "metadata": {},
   "source": [
    "char_2 is better to view as a categorical and for the rest let's treat them as continuous by removing 'type '. "
   ]
  },
  {
   "cell_type": "code",
   "execution_count": 49,
   "metadata": {
    "collapsed": false
   },
   "outputs": [],
   "source": [
    "for i in char_cols_to_inv:\n",
    "    if i not in ['char_2', 'char_38']:\n",
    "        train[i] = train[i].str.replace('type ', '').astype(int)"
   ]
  },
  {
   "cell_type": "code",
   "execution_count": 55,
   "metadata": {
    "collapsed": true
   },
   "outputs": [],
   "source": [
    "train['char_2'] = train['char_2'].astype('category')"
   ]
  },
  {
   "cell_type": "code",
   "execution_count": 56,
   "metadata": {
    "collapsed": false
   },
   "outputs": [
    {
     "data": {
      "image/png": "[encoded data removed]",
      "text/plain": [
       "<matplotlib.figure.Figure at 0x119c7ab90>"
      ]
     },
     "metadata": {},
     "output_type": "display_data"
    }
   ],
   "source": [
    "@interact\n",
    "def viewDist(col=char_cols_to_inv):\n",
    "    summary = train.groupby(col).agg({'outcome': np.mean})\n",
    "    summary.plot()"
   ]
  },
  {
   "cell_type": "markdown",
   "metadata": {},
   "source": [
    "## Modeling"
   ]
  },
  {
   "cell_type": "markdown",
   "metadata": {},
   "source": [
    "## Model Metrics"
   ]
  }
 ],
 "metadata": {
  "anaconda-cloud": {},
  "kernelspec": {
   "display_name": "Python 3",
   "language": "python",
   "name": "python3"
  },
  "language_info": {
   "codemirror_mode": {
    "name": "ipython",
    "version": 3
   },
   "file_extension": ".py",
   "mimetype": "text/x-python",
   "name": "python",
   "nbconvert_exporter": "python",
   "pygments_lexer": "ipython3",
   "version": "3.5.0"
  },
  "latex_envs": {
   "bibliofile": "biblio.bib",
   "cite_by": "apalike",
   "current_citInitial": 1,
   "eqLabelWithNumbers": true,
   "eqNumInitial": 0
  },
  "nav_menu": {},
  "toc": {
   "navigate_menu": true,
   "number_sections": true,
   "sideBar": true,
   "threshold": 6,
   "toc_cell": false,
   "toc_section_display": "block",
   "toc_window_display": false
  }
 },
 "nbformat": 4,
 "nbformat_minor": 0
}
